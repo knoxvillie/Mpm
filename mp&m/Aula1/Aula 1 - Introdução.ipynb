{
 "cells": [
  {
   "cell_type": "markdown",
   "id": "30999f40",
   "metadata": {},
   "source": [
    "# MP&M | Curso Python Iniciante "
   ]
  },
  {
   "cell_type": "raw",
   "id": "7caf21d9",
   "metadata": {},
   "source": [
    "Aula 1 - Porque Python?"
   ]
  },
  {
   "attachments": {},
   "cell_type": "markdown",
   "id": "b1c92167",
   "metadata": {},
   "source": [
    "![](python.jpg)"
   ]
  },
  {
   "cell_type": "markdown",
   "id": "1523f86a",
   "metadata": {},
   "source": [
    ">###### Fontes:\n",
    "\n",
    ">(KingBlog | Python: O que é, quais as vantagens e onde aplicar?) > https://king.host/blog/2021/03/python/\n",
    "\n",
    ">(Alura | Python - Uma Introdução à Linguagem) > https://cursos.alura.com.br/formacao-Python-linguagem\n",
    "\n",
    ">(Stack Overflow | Developer Survey) > https://insights.stackoverflow.com/survey/2021#overview\n",
    "\n",
    ">(Voitto | Por que aprender Python?) > https://www.voitto.com.br/blog/artigo/por-que-aprender-python\n",
    "\n",
    ">(BR Atsist | 7 Principais aplicações práticas de Python) > https://br.atsit.in/archives/110078\n",
    "\n",
    ">>Confira sempre a integra do conteúdo. "
   ]
  },
  {
   "cell_type": "markdown",
   "id": "02682b96",
   "metadata": {},
   "source": [
    "# Nascimento do Python. "
   ]
  },
  {
   "cell_type": "markdown",
   "id": "14db835a",
   "metadata": {},
   "source": [
    "Ao final da década de 1980, Guido Van Hossum trabalhava com uma linguagem de programação destinada ao uso de não programadores chamada ABC, amplamente utilizada no sistema operacional Amoeba. Inspirado na fácil sintaxe da linguagem, porém frustrado com o seu design monolítico e outras limitações, Van Rossum decidiu começar um projeto paralelo que levaria ao nascimento do Python."
   ]
  },
  {
   "cell_type": "markdown",
   "id": "58ef7768",
   "metadata": {},
   "source": [
    "# O que é Python?"
   ]
  },
  {
   "cell_type": "markdown",
   "id": "da182232",
   "metadata": {},
   "source": [
    "Python é reconhecida por ser muito versátil, com ênfase na legibilidade do código, e por ter uma abordagem que permite aos programadores desenvolverem algoritmos melhor estruturados. Além de ser uma linguagem de programação interpretada de alto nível e que suporta múltiplos paradigmas de programação: imperativo, orientado a objetos e funcional. É uma linguagem com tipagem dinâmica e gerenciamento automático de memória."
   ]
  },
  {
   "cell_type": "markdown",
   "id": "11ca0e7e",
   "metadata": {},
   "source": [
    "# > Quais as vantagens e o que pode ser feito com Python?"
   ]
  },
  {
   "cell_type": "markdown",
   "id": "747ddd9e",
   "metadata": {},
   "source": [
    "![](vantagenspython.jpg)"
   ]
  },
  {
   "cell_type": "markdown",
   "id": "a3a92524",
   "metadata": {},
   "source": [
    "## Grande comunidade de usuários."
   ]
  },
  {
   "cell_type": "raw",
   "id": "a4c6c7bc",
   "metadata": {},
   "source": [
    "O Python é a 3ª linguagem de programação mais utilizada no mundo segundo o Stack Overflow em 2021."
   ]
  },
  {
   "cell_type": "markdown",
   "id": "6620c85f",
   "metadata": {},
   "source": [
    "![](stackoverflowsurvey.jpg)\n",
    "\n",
    "> Endereço da imagem: https://insights.stackoverflow.com/survey/2021#most-popular-technologies-language\n"
   ]
  },
  {
   "cell_type": "markdown",
   "id": "c3415234",
   "metadata": {},
   "source": [
    "O modelo de desenvolvimento Open Source incentiva o crescimento de uma comunidade ativa que cria novas bibliotecas e oferece suporte contínuo para o melhoramento da linguagem. É muito fácil achar material de aprendizagem na internet. Há sites como o Stack Overflow, por exemplo, onde você pode fazer perguntas, e uma grande comunidade de programadores está sempre disposta a colaborar e tirar dúvidas."
   ]
  },
  {
   "cell_type": "markdown",
   "id": "013d73e8",
   "metadata": {},
   "source": [
    "## Fácil aprendizado."
   ]
  },
  {
   "cell_type": "markdown",
   "id": "740f1af0",
   "metadata": {},
   "source": [
    "![](1_pGW8woNJTradTllrN3E8oQ.png)\n",
    "\n",
    "> Endereço da imagem: https://ichi.pro/assets/images/max/724/1*pGW8woNJTradTllrN3E8oQ.png"
   ]
  },
  {
   "cell_type": "markdown",
   "id": "c8b31739",
   "metadata": {},
   "source": [
    "Sua fácil sintaxe o torna uma linguagem democrática que não se restringe apenas a profissionais da área de tecnologia, sendo usado até mesmo em escolas como um primeiro contato com lógica de programação. O modelo de desenvolvimento Open Source incentiva o crescimento de uma comunidade ativa que cria novas bibliotecas e oferece suporte contínuo para o melhoramento da linguagem."
   ]
  },
  {
   "cell_type": "markdown",
   "id": "2930e168",
   "metadata": {},
   "source": [
    "## Computação científica e numérica"
   ]
  },
  {
   "cell_type": "markdown",
   "id": "1b298655",
   "metadata": {},
   "source": [
    "O ecossistema Python oferece inúmeras ferramentas e bibliotecas que ajudam cientistas e pesquisadores em computação científica e numérica.\n",
    "SciPy é um conjunto de pacotes para matemática, ciências e engenharia Pandas é uma biblioteca usada para análise de dados e modelagem IPython é um shell interativo forte que fornece edição e gravação sem complicações de uma sessão de trabalho e ajuda na visualização e computação paralela. FreeCAD e Abaqus são aplicativos numéricos e científicos da vida real construídos com Python."
   ]
  },
  {
   "cell_type": "markdown",
   "id": "d27f82f6",
   "metadata": {},
   "source": [
    "## Inteligência Artificial e Aprendizado de Máquina"
   ]
  },
  {
   "cell_type": "markdown",
   "id": "dc6df0a9",
   "metadata": {},
   "source": [
    "Os chavões mais quentes da década-Inteligência Artificial (IA) e Aprendizado de Máquina são principalmente sobre algoritmos, código , e lógica. O Python, junto com algumas outras linguagens de programação, está cada vez mais sendo usado para desenvolver soluções baseadas em IA e ML. O escopo e o poder do Python, junto com sua estabilidade e segurança, o tornam ideal para executar sistemas de IA e ML.\n",
    "\n",
    "Algumas bibliotecas importantes para o trabalho são:\n",
    "Scikit-Learn-para construir vários modelos de aprendizado de máquina SciPy-para computação científica e técnica TensorFlow-para redes neurais de última geração Keras-para redes neurais artificiais Pandas-para análise e manipulação de dados"
   ]
  },
  {
   "cell_type": "markdown",
   "id": "9fbb7006",
   "metadata": {},
   "source": [
    "## Desenvolvimento WEB"
   ]
  },
  {
   "cell_type": "markdown",
   "id": "b9307aad",
   "metadata": {},
   "source": [
    "Spotify e Reddit são dois exemplos de sites famosos que funcionam utilizando estruturas em Python. Existem diversas bibliotecas que tornam o desenvolvimento web bem mais simples e fácil.\n",
    "Por exemplo, o framework Django reúne diversos componentes já prontos que você pode utilizar, como autenticação de usuários, upload de arquivos e formulários. Existem ainda mais bibliotecas como CherryPy, Pyramid, web2py, entre outras."
   ]
  },
  {
   "cell_type": "raw",
   "id": "92ff8c0e",
   "metadata": {},
   "source": [
    " "
   ]
  },
  {
   "cell_type": "markdown",
   "id": "6f9cdc74",
   "metadata": {},
   "source": [
    "> Aqui você pode encontrar a documentação Oficial em Português/BR da versão 3.10.1 do Python.\n",
    "https://docs.python.org/pt-br/3/tutorial/"
   ]
  },
  {
   "cell_type": "code",
   "execution_count": null,
   "id": "e12497be",
   "metadata": {},
   "outputs": [],
   "source": []
  }
 ],
 "metadata": {
  "kernelspec": {
   "display_name": "Python 3 (ipykernel)",
   "language": "python",
   "name": "python3"
  },
  "language_info": {
   "codemirror_mode": {
    "name": "ipython",
    "version": 3
   },
   "file_extension": ".py",
   "mimetype": "text/x-python",
   "name": "python",
   "nbconvert_exporter": "python",
   "pygments_lexer": "ipython3",
   "version": "3.10.0"
  }
 },
 "nbformat": 4,
 "nbformat_minor": 5
}
