{
 "cells": [
  {
   "cell_type": "markdown",
   "id": "423a6329",
   "metadata": {},
   "source": [
    "# MP&M | Curso Python Iniciante "
   ]
  },
  {
   "cell_type": "markdown",
   "id": "645b0b1f",
   "metadata": {},
   "source": [
    "#### Aula 1 - Por que Python?"
   ]
  },
  {
   "cell_type": "markdown",
   "id": "43b2f43b",
   "metadata": {},
   "source": [
    "![Python](imagens/python.jpg)"
   ]
  },
  {
   "cell_type": "markdown",
   "id": "18dd73d9",
   "metadata": {},
   "source": [
    ">###### Referências:\n",
    "\n",
    "> <a href=\"https://king.host/blog/2021/03/python/\"> KingBlog | Python: O que é, quais as vantagens e onde aplicar?</a>\n",
    "\n",
    "> <a href=\"https://cursos.alura.com.br/formacao-Python-linguagem\"> Alura | Python - Uma Introdução à Linguagem</a>\n",
    "\n",
    "> <a href=\"https://insights.stackoverflow.com/survey/2021#overview\"> Stack Overflow | Developer Survey </a>\n",
    "\n",
    "> <a href=\"https://www.voitto.com.br/blog/artigo/por-que-aprender-python\"> Voitto | Por que aprender Python?</a>\n",
    "\n",
    "> <a href=\"https://br.atsit.in/archives/110078\"> BR Atsist | 7 Principais aplicações práticas de Python</a>\n",
    "\n",
    "> <a href=\"https://pt.stackoverflow.com/questions/141624/o-que-%c3%a9-paradigma\"> Stack Overflow | o que é paradigma?</a>\n",
    "    \n",
    "> <a href=\"http://blog.abraseucodigo.com.br/python-uma-linguagem-de-tipagem-dinamica-e-forte.html\"> Blog Abraseucodigo | Python uma linguagem de tipagem dinâmica e forte</a>\n",
    "\n",
    ">>Confira sempre o conteúdo original. "
   ]
  },
  {
   "cell_type": "markdown",
   "id": "3578e697",
   "metadata": {},
   "source": [
    "# Nascimento do Python. "
   ]
  },
  {
   "cell_type": "markdown",
   "id": "d3b78939",
   "metadata": {},
   "source": [
    "Ao final da década de 1980, Guido Van Hossum trabalhava com uma linguagem de programação destinada ao uso de não programadores chamada ABC, amplamente utilizada no sistema operacional Amoeba. Inspirado na fácil sintaxe da linguagem, porém frustrado com o seu design monolítico e outras limitações, Van Rossum decidiu começar um projeto paralelo que levaria ao nascimento do Python."
   ]
  },
  {
   "cell_type": "markdown",
   "id": "fe4a4bde",
   "metadata": {},
   "source": [
    "# O que é Python?"
   ]
  },
  {
   "cell_type": "markdown",
   "id": "b35b8053",
   "metadata": {},
   "source": [
    "Python é reconhecida por ser muito versátil, com ênfase na legibilidade do código, e por ter uma abordagem que permite aos programadores desenvolverem algoritmos melhor estruturados. Além de ser uma linguagem de programação interpretada de alto nível e que suporta múltiplos paradigmas de programação: imperativo, orientado a objetos e funcional. É uma linguagem com tipagem dinâmica e forte."
   ]
  },
  {
   "cell_type": "markdown",
   "id": "59cb11be",
   "metadata": {},
   "source": [
    "# Quais as vantagens e o que pode ser feito com Python?"
   ]
  },
  {
   "cell_type": "markdown",
   "id": "d5e8b6e5",
   "metadata": {},
   "source": [
    "<img src=\"imagens/vantagenspython.jpg\" width=500 height=500 />\n",
    "\n",
    "> Endereço da imagem: https://king.host/blog/2021/03/python/\n"
   ]
  },
  {
   "cell_type": "markdown",
   "id": "5da44d17",
   "metadata": {},
   "source": [
    "## Grande comunidade de usuários."
   ]
  },
  {
   "cell_type": "raw",
   "id": "ac061ebf",
   "metadata": {},
   "source": [
    "O Python é a 3ª linguagem de programação mais utilizada no mundo segundo o Stack Overflow em 2021."
   ]
  },
  {
   "cell_type": "markdown",
   "id": "a26a3d04",
   "metadata": {},
   "source": [
    "![](imagens/stackoverflowsurvey.jpg)\n",
    "\n",
    "> Endereço da imagem: https://insights.stackoverflow.com/survey/2021#most-popular-technologies-language\n"
   ]
  },
  {
   "cell_type": "markdown",
   "id": "12de82c9",
   "metadata": {},
   "source": [
    "O modelo de desenvolvimento Open Source incentiva o crescimento de uma comunidade ativa que cria novas bibliotecas e oferece suporte contínuo para o melhoramento da linguagem. É muito fácil achar material de aprendizagem na internet. Há sites como o Stack Overflow, por exemplo, onde você pode fazer perguntas, e uma grande comunidade de programadores está sempre disposta a colaborar e tirar dúvidas."
   ]
  },
  {
   "cell_type": "markdown",
   "id": "937808f4",
   "metadata": {},
   "source": [
    "## Fácil aprendizado."
   ]
  },
  {
   "cell_type": "markdown",
   "id": "c9bbf315",
   "metadata": {},
   "source": [
    "![](imagens/1_pGW8woNJTradTllrN3E8oQ.png)\n",
    "\n",
    "> Endereço da imagem: https://ichi.pro/assets/images/max/724/1*pGW8woNJTradTllrN3E8oQ.png"
   ]
  },
  {
   "cell_type": "markdown",
   "id": "7dfdde23",
   "metadata": {},
   "source": [
    "Ao considerarmos a sua baixa curva de aprendizagem o Python acaba sendo uma das linguagens mais populares. Sua fácil sintaxe o torna uma linguagem democrática que não se restringe apenas a profissionais da área de tecnologia, sendo usado até mesmo em escolas como um primeiro contato com lógica de programação. O modelo de desenvolvimento Open Source incentiva o crescimento de uma comunidade ativa que cria um volume imenso de material de estudos da linguagem.\n",
    "\n",
    "Uma característica muito importante para a comunidade Python é a legibilidade do código, algo que reforça a ideia de ser uma linguagem mais próxima do humano e mais democrática. Esse tópico é tão importante que existem elementos que enfatizam isso: PEP-8 e The Zen of Python.\n",
    "\n",
    "> Aqui você pode encontrar a documentação Oficial em Português/BR da versão 3.10.1 do Python.\n",
    "https://docs.python.org/pt-br/3/tutorial/\n",
    "\n",
    "> Aqui você pode encontrar livros gratuitos de Python e Django em Português/BR: https://github.com/EbookFoundation/free-programming-books/blob/main/books/free-programming-books-pt_BR.md#python\n",
    "\n",
    "> Lista de cursos gratuitos em diversas línguas e linguagens: https://github.com/EbookFoundation/free-programming-books\n",
    "\n",
    "> PEP 8 -- Style Guide for Python Code: https://www.python.org/dev/peps/pep-0008/\n",
    "\n",
    "> PEP 20 -- The Zen of Python: https://www.python.org/dev/peps/pep-0020/#the-zen-of-python\n",
    "\n",
    "> O website Python Checker é recomendado pela documentação oficial do Python como um auxílio para aqueles que querem “corrigir” seus próprios códigos conforme a PEP-8.: https://www.pythonchecker.com/"
   ]
  },
  {
   "cell_type": "markdown",
   "id": "8b5435b0",
   "metadata": {},
   "source": [
    "## Computação científica e numérica"
   ]
  },
  {
   "cell_type": "markdown",
   "id": "f578ef74",
   "metadata": {},
   "source": [
    "O ecossistema Python oferece inúmeras ferramentas e bibliotecas que ajudam cientistas e pesquisadores em computação científica e numérica.\n",
    "SciPy é um conjunto de pacotes para matemática, ciências e engenharia Pandas é uma biblioteca usada para análise de dados e modelagem IPython é um shell interativo forte que fornece edição e gravação sem complicações de uma sessão de trabalho e ajuda na visualização e computação paralela. FreeCAD e Abaqus são aplicativos numéricos e científicos da vida real construídos com Python.\n",
    "\n",
    "> O que é Biblioteca, Framework e API?: https://www.youtube.com/watch?v=F0H4HPXdZog"
   ]
  },
  {
   "cell_type": "markdown",
   "id": "56c37073",
   "metadata": {},
   "source": [
    "## Inteligência Artificial e Aprendizado de Máquina"
   ]
  },
  {
   "cell_type": "markdown",
   "id": "884e6048",
   "metadata": {},
   "source": [
    "Os chavões mais quentes da década-Inteligência Artificial (IA) e Aprendizado de Máquina são principalmente sobre algoritmos, código , e lógica. O Python, junto com algumas outras linguagens de programação, está cada vez mais sendo usado para desenvolver soluções baseadas em IA e ML. O escopo e o poder do Python, junto com sua estabilidade e segurança, o tornam ideal para executar sistemas de IA e ML.\n",
    "\n",
    "Algumas bibliotecas importantes para o trabalho são:\n",
    "Scikit-Learn-para construir vários modelos de aprendizado de máquina SciPy-para computação científica e técnica TensorFlow-para redes neurais de última geração Keras-para redes neurais artificiais Pandas-para análise e manipulação de dados"
   ]
  },
  {
   "cell_type": "markdown",
   "id": "a2459588",
   "metadata": {},
   "source": [
    "## Desenvolvimento WEB"
   ]
  },
  {
   "cell_type": "markdown",
   "id": "bd66551e",
   "metadata": {},
   "source": [
    "Spotify e Reddit são dois exemplos de sites famosos que funcionam utilizando estruturas em Python. Existem diversas bibliotecas que tornam o desenvolvimento web bem mais simples e fácil.\n",
    "Por exemplo, o framework Django reúne diversos componentes já prontos que você pode utilizar, como autenticação de usuários, upload de arquivos e formulários. Existem ainda mais bibliotecas como CherryPy, Pyramid, web2py, entre outras.\n",
    "\n",
    "> O que é front-end e back-end?: https://www.alura.com.br/artigos/o-que-e-front-end-e-back-end"
   ]
  },
  {
   "cell_type": "markdown",
   "id": "e6add37d",
   "metadata": {},
   "source": [
    "Leitura complementar:"
   ]
  },
  {
   "cell_type": "markdown",
   "id": "cdea64bf",
   "metadata": {},
   "source": [
    "> 7 principais aplicações práticas de Python e dicas para iniciar uma carreira na área: https://br.atsit.in/archives/110078"
   ]
  },
  {
   "cell_type": "raw",
   "id": "e2249395",
   "metadata": {},
   "source": [
    " "
   ]
  },
  {
   "cell_type": "markdown",
   "id": "710727d4",
   "metadata": {},
   "source": [
    "# As características do Python:\n",
    "\n"
   ]
  },
  {
   "cell_type": "markdown",
   "id": "cb88e38c",
   "metadata": {},
   "source": [
    "Quando nos referimos ao Python como uma linguagem de programação (Interpretada) de (alto nível), (multiparadigma) e com (tipagem dinâmica e forte), o que realmente queremos dizer com isto?"
   ]
  },
  {
   "cell_type": "markdown",
   "id": "1c624fbe",
   "metadata": {},
   "source": [
    "## Linguagem Interpretada "
   ]
  },
  {
   "cell_type": "markdown",
   "id": "a5c4b84b",
   "metadata": {},
   "source": [
    "![](imagens/intercomp.jpg)\n",
    "\n",
    "> Endereço da imagem: https://www.youtube.com/watch?v=up6DhGzBlj0"
   ]
  },
  {
   "cell_type": "markdown",
   "id": "3edc9ead",
   "metadata": {},
   "source": [
    "Aprofundando no tema:"
   ]
  },
  {
   "cell_type": "markdown",
   "id": "4700a558",
   "metadata": {},
   "source": [
    "> O que é compilador, e quais as diferenças de linguagem compilada e interpretada: https://www.alura.com.br/artigos/o-que-e-compilacao\n",
    "\n",
    "> Compilador: https://www.youtube.com/watch?v=afUiVvDUIRA\n",
    "\n",
    "> O Python é interpretado ou compilado?: https://www.toptal.com/python/por-que-h-tantos-pythons\n",
    "\n",
    "> Linguagens Compiladas, Interpretadas e Híbridas: https://www.youtube.com/watch?v=DVT-gEhS0KA\n"
   ]
  },
  {
   "cell_type": "markdown",
   "id": "3489445a",
   "metadata": {},
   "source": [
    "## Linguagem de alto nível"
   ]
  },
  {
   "cell_type": "markdown",
   "id": "ef67e022",
   "metadata": {},
   "source": [
    "Chamamos de linguagem de alto nível aquela que abstrae conceitos voltados para a máquina e sintetizam comandos, e cuja sintaxe é voltada para o entendimento humano. Isso significa que esse tipo de linguagem é muito mais intuitivo, amigável e mais fácil de aprender."
   ]
  },
  {
   "cell_type": "markdown",
   "id": "56e64b3d",
   "metadata": {},
   "source": [
    "![](imagens/imagem4.png)\n",
    "\n",
    "> Endereço da imagem: https://www.alura.com.br/artigos/python-uma-introducao-a-linguagem"
   ]
  },
  {
   "cell_type": "markdown",
   "id": "b5e224b9",
   "metadata": {},
   "source": [
    "Leitura complementar:"
   ]
  },
  {
   "cell_type": "markdown",
   "id": "8f2151ed",
   "metadata": {},
   "source": [
    "> Linguagem de alto nível vs linguagem de baixo nível: definições e diferenças!: https://blog.betrybe.com/linguagem-de-programacao/linguagem-alto-e-baixo-nivel/\n",
    "\n",
    "> O que é linguagem de alto nível e baixo nível e qual a melhor?: https://kenzie.com.br/blog/linguagem-de-alto-nivel/"
   ]
  },
  {
   "cell_type": "markdown",
   "id": "1c9a49d7",
   "metadata": {},
   "source": [
    "## Multiparadigma"
   ]
  },
  {
   "cell_type": "markdown",
   "id": "592db3d4",
   "metadata": {},
   "source": [
    "Um paradigma poder ser compreendido como o tipo de estruturação ao qual a linguagem deverá respeitar. \n",
    "\n",
    "É um estilo de programação, um modelo, uma metodologia. Se trata da forma como você aborda e soluciona um problemas usando uma determinada linguagem de programação."
   ]
  },
  {
   "cell_type": "markdown",
   "id": "533b852f",
   "metadata": {},
   "source": [
    "Leitura complementar:"
   ]
  },
  {
   "cell_type": "markdown",
   "id": "6a4ff8fc",
   "metadata": {},
   "source": [
    "> O que é paradigma?: https://pt.stackoverflow.com/questions/141624/o-que-%c3%a9-paradigma\n",
    "\n",
    "> Paradigmas de programação: o que são e quais os principais?: https://blog.betrybe.com/tecnologia/paradigmas-de-programacao/\n",
    "\n",
    "> POO: o que é programação orientada a objetos?: https://www.alura.com.br/artigos/poo-programacao-orientada-a-objetos"
   ]
  },
  {
   "cell_type": "markdown",
   "id": "227124c1",
   "metadata": {},
   "source": [
    "## Tipagem Dinâmica e Forte"
   ]
  },
  {
   "cell_type": "markdown",
   "id": "3209577d",
   "metadata": {},
   "source": [
    "Ter uma tipagem dinâmica significa que o próprio interpretador do Python infere automáticamente o tipo de dados que uma variável recebe, sem a necessidade que o usuário da linguagem diga de que tipo determinada variável é."
   ]
  },
  {
   "cell_type": "code",
   "execution_count": 5,
   "id": "9e0deeb6",
   "metadata": {
    "scrolled": true
   },
   "outputs": [
    {
     "name": "stdout",
     "output_type": "stream",
     "text": [
      "14\n"
     ]
    }
   ],
   "source": [
    "#Exemplo Tipagem Dinâmica:\n",
    "\n",
    "numero_1 = 5  #Estamos atribuindo o valor 5 a uma variável chamada numero_1\n",
    "numero_2 = 9  #Estamos atribuindo o valor 9 a uma variável chamada numero_2\n",
    "\n",
    "print(numero_1 + numero_2) #Estamos solicitando que o Python imprima na tela o valor da soma contido nas duas variáveis\n"
   ]
  },
  {
   "cell_type": "raw",
   "id": "b45e110d",
   "metadata": {},
   "source": [
    "Repare que não nos foi necessário dizer ao Python que as variáveis numero_1 e numero_2 recebem dados do tipo Inteiro.\n",
    "O interpretador se encarrega da atribuição do tipo de dados de uma variável numa linguagem de programação de tipagem dinâmica."
   ]
  },
  {
   "cell_type": "markdown",
   "id": "13ea9242",
   "metadata": {},
   "source": [
    "Ter a tipagem forte significa que o interpretador do Python avalia as expressões (evaluate) e não faz coerções automáticas entre tipos não compatíveis (conversões de valores)."
   ]
  },
  {
   "cell_type": "code",
   "execution_count": 7,
   "id": "db1b01dc",
   "metadata": {},
   "outputs": [
    {
     "ename": "TypeError",
     "evalue": "unsupported operand type(s) for +: 'int' and 'str'",
     "output_type": "error",
     "traceback": [
      "\u001b[1;31m---------------------------------------------------------------------------\u001b[0m",
      "\u001b[1;31mTypeError\u001b[0m                                 Traceback (most recent call last)",
      "\u001b[1;32m~\\AppData\\Local\\Temp/ipykernel_19536/305757161.py\u001b[0m in \u001b[0;36m<module>\u001b[1;34m\u001b[0m\n\u001b[0;32m      4\u001b[0m \u001b[0mnome\u001b[0m \u001b[1;33m=\u001b[0m \u001b[1;34m'Beethoven'\u001b[0m \u001b[1;31m#Estamos atribuindo o texto Beethoven a uma variável chamada nome\u001b[0m\u001b[1;33m\u001b[0m\u001b[1;33m\u001b[0m\u001b[0m\n\u001b[0;32m      5\u001b[0m \u001b[1;33m\u001b[0m\u001b[0m\n\u001b[1;32m----> 6\u001b[1;33m \u001b[0mprint\u001b[0m\u001b[1;33m(\u001b[0m\u001b[0mnumero_1\u001b[0m \u001b[1;33m+\u001b[0m \u001b[0mnome\u001b[0m\u001b[1;33m)\u001b[0m \u001b[1;31m#Estamos solicitando que o Python imprima na tela o valor da soma contido nas duas variáveis\u001b[0m\u001b[1;33m\u001b[0m\u001b[1;33m\u001b[0m\u001b[0m\n\u001b[0m",
      "\u001b[1;31mTypeError\u001b[0m: unsupported operand type(s) for +: 'int' and 'str'"
     ]
    }
   ],
   "source": [
    "#Exempro Tipagem Forte:\n",
    "\n",
    "numero_1 = 5  #Estamos atribuindo o valor 5 a uma variável chamada numero_1\n",
    "nome = 'Beethoven' #Estamos atribuindo o texto Beethoven a uma variável chamada nome\n",
    "\n",
    "print(numero_1 + nome) #Estamos solicitando que o Python imprima na tela o valor da soma contido nas duas variáveis"
   ]
  },
  {
   "cell_type": "raw",
   "id": "b3478e50",
   "metadata": {},
   "source": [
    "Repare que recebemos um erro: TypeError: unsupported operand type(s) for +: 'int' and 'str'  \n",
    "O Python está a nos informar que não consegue efetuar a operação de soma de um número (Inteiro) a um texto (String)."
   ]
  },
  {
   "cell_type": "markdown",
   "id": "397b8f05",
   "metadata": {},
   "source": [
    "Este é exatamente o comportamento que esperamos que o Python tenha, realizando apenas operações a tipos compatíveis de dados sem os converter automáticamente, garantindo resultados coerentes e reduzindo possíveis fontes de bugs."
   ]
  },
  {
   "cell_type": "markdown",
   "id": "fe648e9d",
   "metadata": {},
   "source": [
    "Leitura complementar:\n",
    "\n",
    "> O que são as tipagens estática e dinâmica em programação?: https://www.alura.com.br/artigos/o-que-sao-as-tipagens-estatica-e-dinamica-em-programacao \n",
    "\n",
    "> Quais as diferenças entre tipagens: estática ou dinâmica e forte ou fraca?: https://www.treinaweb.com.br/blog/quais-as-diferencas-entre-tipagens-estatica-ou-dinamica-e-forte-ou-fraca\n",
    "\n",
    "> Python uma linguagem de tipagem dinâmica e forte: http://blog.abraseucodigo.com.br/python-uma-linguagem-de-tipagem-dinamica-e-forte.html "
   ]
  },
  {
   "cell_type": "markdown",
   "id": "15b0263e",
   "metadata": {},
   "source": []
  }
 ],
 "metadata": {
  "kernelspec": {
   "display_name": "Python 3 (ipykernel)",
   "language": "python",
   "name": "python3"
  },
  "language_info": {
   "codemirror_mode": {
    "name": "ipython",
    "version": 3
   },
   "file_extension": ".py",
   "mimetype": "text/x-python",
   "name": "python",
   "nbconvert_exporter": "python",
   "pygments_lexer": "ipython3",
   "version": "3.10.0"
  }
 },
 "nbformat": 4,
 "nbformat_minor": 5
}
